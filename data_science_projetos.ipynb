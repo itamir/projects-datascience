{
 "cells": [
  {
   "cell_type": "code",
   "execution_count": 1,
   "metadata": {},
   "outputs": [],
   "source": [
    "import pandas as pd\n"
   ]
  },
  {
   "cell_type": "code",
   "execution_count": 3,
   "metadata": {},
   "outputs": [],
   "source": [
    "file_path = 'C:\\\\Users\\\\itami\\\\Downloads\\\\projetos_csv.csv'  \n",
    "df = pd.read_csv(file_path)\n"
   ]
  },
  {
   "cell_type": "code",
   "execution_count": 35,
   "metadata": {},
   "outputs": [],
   "source": [
    "df['Valor'] = df['Valor'].str.replace('R$', '').str.replace('.', '').str.replace(',', '.').str.strip()\n",
    "df['Valor'] = pd.to_numeric(df['Valor'], errors='coerce')\n"
   ]
  },
  {
   "cell_type": "code",
   "execution_count": 36,
   "metadata": {},
   "outputs": [],
   "source": [
    "grouped_data = df.groupby('Instituição').agg({\n",
    "    'Participantes': 'sum',\n",
    "    'Projeto': 'count',\n",
    "    'Valor' : 'sum'\n",
    "}).sort_values(by='Valor', ascending=False)\n"
   ]
  },
  {
   "cell_type": "code",
   "execution_count": 37,
   "metadata": {},
   "outputs": [
    {
     "data": {
      "text/html": [
       "<div>\n",
       "<style scoped>\n",
       "    .dataframe tbody tr th:only-of-type {\n",
       "        vertical-align: middle;\n",
       "    }\n",
       "\n",
       "    .dataframe tbody tr th {\n",
       "        vertical-align: top;\n",
       "    }\n",
       "\n",
       "    .dataframe thead th {\n",
       "        text-align: right;\n",
       "    }\n",
       "</style>\n",
       "<table border=\"1\" class=\"dataframe\">\n",
       "  <thead>\n",
       "    <tr style=\"text-align: right;\">\n",
       "      <th></th>\n",
       "      <th>Instituição</th>\n",
       "      <th>Total Participantes</th>\n",
       "      <th>Total Projetos</th>\n",
       "      <th>Valor dos Projetos</th>\n",
       "    </tr>\n",
       "  </thead>\n",
       "  <tbody>\n",
       "    <tr>\n",
       "      <th>0</th>\n",
       "      <td>DELL</td>\n",
       "      <td>84</td>\n",
       "      <td>7</td>\n",
       "      <td>3919682.11</td>\n",
       "    </tr>\n",
       "    <tr>\n",
       "      <th>1</th>\n",
       "      <td>MICHELIN</td>\n",
       "      <td>78</td>\n",
       "      <td>9</td>\n",
       "      <td>3605541.14</td>\n",
       "    </tr>\n",
       "    <tr>\n",
       "      <th>2</th>\n",
       "      <td>NUPLAM</td>\n",
       "      <td>55</td>\n",
       "      <td>2</td>\n",
       "      <td>3298055.00</td>\n",
       "    </tr>\n",
       "    <tr>\n",
       "      <th>3</th>\n",
       "      <td>TJRN</td>\n",
       "      <td>61</td>\n",
       "      <td>1</td>\n",
       "      <td>2243880.68</td>\n",
       "    </tr>\n",
       "    <tr>\n",
       "      <th>4</th>\n",
       "      <td>SESAP</td>\n",
       "      <td>34</td>\n",
       "      <td>3</td>\n",
       "      <td>1664610.84</td>\n",
       "    </tr>\n",
       "    <tr>\n",
       "      <th>5</th>\n",
       "      <td>ACER</td>\n",
       "      <td>18</td>\n",
       "      <td>1</td>\n",
       "      <td>1145926.95</td>\n",
       "    </tr>\n",
       "    <tr>\n",
       "      <th>6</th>\n",
       "      <td>UFRN</td>\n",
       "      <td>36</td>\n",
       "      <td>2</td>\n",
       "      <td>1127446.29</td>\n",
       "    </tr>\n",
       "    <tr>\n",
       "      <th>7</th>\n",
       "      <td>MCTIC</td>\n",
       "      <td>1</td>\n",
       "      <td>1</td>\n",
       "      <td>1000639.00</td>\n",
       "    </tr>\n",
       "    <tr>\n",
       "      <th>8</th>\n",
       "      <td>COMPERVE</td>\n",
       "      <td>16</td>\n",
       "      <td>1</td>\n",
       "      <td>863918.00</td>\n",
       "    </tr>\n",
       "    <tr>\n",
       "      <th>9</th>\n",
       "      <td>GERTEC</td>\n",
       "      <td>13</td>\n",
       "      <td>1</td>\n",
       "      <td>514900.65</td>\n",
       "    </tr>\n",
       "    <tr>\n",
       "      <th>10</th>\n",
       "      <td>MICRODATA</td>\n",
       "      <td>7</td>\n",
       "      <td>1</td>\n",
       "      <td>398757.24</td>\n",
       "    </tr>\n",
       "    <tr>\n",
       "      <th>11</th>\n",
       "      <td>CAURN</td>\n",
       "      <td>15</td>\n",
       "      <td>2</td>\n",
       "      <td>386328.02</td>\n",
       "    </tr>\n",
       "    <tr>\n",
       "      <th>12</th>\n",
       "      <td>THINK</td>\n",
       "      <td>10</td>\n",
       "      <td>1</td>\n",
       "      <td>310412.82</td>\n",
       "    </tr>\n",
       "    <tr>\n",
       "      <th>13</th>\n",
       "      <td>SIEMENS</td>\n",
       "      <td>17</td>\n",
       "      <td>2</td>\n",
       "      <td>302000.00</td>\n",
       "    </tr>\n",
       "    <tr>\n",
       "      <th>14</th>\n",
       "      <td>GJA</td>\n",
       "      <td>5</td>\n",
       "      <td>1</td>\n",
       "      <td>65320.00</td>\n",
       "    </tr>\n",
       "  </tbody>\n",
       "</table>\n",
       "</div>"
      ],
      "text/plain": [
       "   Instituição  Total Participantes  Total Projetos  Valor dos Projetos\n",
       "0         DELL                   84               7          3919682.11\n",
       "1     MICHELIN                   78               9          3605541.14\n",
       "2       NUPLAM                   55               2          3298055.00\n",
       "3         TJRN                   61               1          2243880.68\n",
       "4        SESAP                   34               3          1664610.84\n",
       "5         ACER                   18               1          1145926.95\n",
       "6         UFRN                   36               2          1127446.29\n",
       "7        MCTIC                    1               1          1000639.00\n",
       "8     COMPERVE                   16               1           863918.00\n",
       "9       GERTEC                   13               1           514900.65\n",
       "10   MICRODATA                    7               1           398757.24\n",
       "11       CAURN                   15               2           386328.02\n",
       "12       THINK                   10               1           310412.82\n",
       "13     SIEMENS                   17               2           302000.00\n",
       "14         GJA                    5               1            65320.00"
      ]
     },
     "execution_count": 37,
     "metadata": {},
     "output_type": "execute_result"
    }
   ],
   "source": [
    "grouped_data.columns = ['Total Participantes', 'Total Projetos',  'Valor dos Projetos']\n",
    "grouped_data.reset_index(inplace=True)\n",
    "\n",
    "grouped_data"
   ]
  },
  {
   "cell_type": "code",
   "execution_count": 42,
   "metadata": {},
   "outputs": [
    {
     "name": "stdout",
     "output_type": "stream",
     "text": [
      "Collecting matplotlib\n",
      "  Using cached matplotlib-3.8.2-cp311-cp311-win_amd64.whl.metadata (5.9 kB)\n",
      "Collecting contourpy>=1.0.1 (from matplotlib)\n",
      "  Using cached contourpy-1.2.0-cp311-cp311-win_amd64.whl.metadata (5.8 kB)\n",
      "Collecting cycler>=0.10 (from matplotlib)\n",
      "  Using cached cycler-0.12.1-py3-none-any.whl.metadata (3.8 kB)\n",
      "Collecting fonttools>=4.22.0 (from matplotlib)\n",
      "  Downloading fonttools-4.47.2-cp311-cp311-win_amd64.whl.metadata (160 kB)\n",
      "     ---------------------------------------- 0.0/160.8 kB ? eta -:--:--\n",
      "     -- ------------------------------------- 10.2/160.8 kB ? eta -:--:--\n",
      "     ------- ----------------------------- 30.7/160.8 kB 435.7 kB/s eta 0:00:01\n",
      "     -------------- ---------------------- 61.4/160.8 kB 544.7 kB/s eta 0:00:01\n",
      "     ------------------------------------ 160.8/160.8 kB 964.9 kB/s eta 0:00:00\n",
      "Collecting kiwisolver>=1.3.1 (from matplotlib)\n",
      "  Using cached kiwisolver-1.4.5-cp311-cp311-win_amd64.whl.metadata (6.5 kB)\n",
      "Requirement already satisfied: numpy<2,>=1.21 in c:\\users\\itami\\appdata\\local\\packages\\pythonsoftwarefoundation.python.3.11_qbz5n2kfra8p0\\localcache\\local-packages\\python311\\site-packages (from matplotlib) (1.26.0)\n",
      "Requirement already satisfied: packaging>=20.0 in c:\\users\\itami\\appdata\\local\\packages\\pythonsoftwarefoundation.python.3.11_qbz5n2kfra8p0\\localcache\\local-packages\\python311\\site-packages (from matplotlib) (23.1)\n",
      "Collecting pillow>=8 (from matplotlib)\n",
      "  Downloading pillow-10.2.0-cp311-cp311-win_amd64.whl.metadata (9.9 kB)\n",
      "Collecting pyparsing>=2.3.1 (from matplotlib)\n",
      "  Using cached pyparsing-3.1.1-py3-none-any.whl.metadata (5.1 kB)\n",
      "Requirement already satisfied: python-dateutil>=2.7 in c:\\users\\itami\\appdata\\local\\packages\\pythonsoftwarefoundation.python.3.11_qbz5n2kfra8p0\\localcache\\local-packages\\python311\\site-packages (from matplotlib) (2.8.2)\n",
      "Requirement already satisfied: six>=1.5 in c:\\users\\itami\\appdata\\local\\packages\\pythonsoftwarefoundation.python.3.11_qbz5n2kfra8p0\\localcache\\local-packages\\python311\\site-packages (from python-dateutil>=2.7->matplotlib) (1.16.0)\n",
      "Using cached matplotlib-3.8.2-cp311-cp311-win_amd64.whl (7.6 MB)\n",
      "Using cached contourpy-1.2.0-cp311-cp311-win_amd64.whl (187 kB)\n",
      "Using cached cycler-0.12.1-py3-none-any.whl (8.3 kB)\n",
      "Downloading fonttools-4.47.2-cp311-cp311-win_amd64.whl (2.2 MB)\n",
      "   ---------------------------------------- 0.0/2.2 MB ? eta -:--:--\n",
      "   -- ------------------------------------- 0.1/2.2 MB 3.3 MB/s eta 0:00:01\n",
      "   ------ --------------------------------- 0.3/2.2 MB 3.5 MB/s eta 0:00:01\n",
      "   ------- -------------------------------- 0.4/2.2 MB 3.4 MB/s eta 0:00:01\n",
      "   ------------ --------------------------- 0.7/2.2 MB 3.5 MB/s eta 0:00:01\n",
      "   ----------------- ---------------------- 1.0/2.2 MB 4.0 MB/s eta 0:00:01\n",
      "   -------------------- ------------------- 1.1/2.2 MB 3.9 MB/s eta 0:00:01\n",
      "   -------------------------- ------------- 1.4/2.2 MB 4.3 MB/s eta 0:00:01\n",
      "   -------------------------------- ------- 1.8/2.2 MB 4.9 MB/s eta 0:00:01\n",
      "   ------------------------------------ --- 2.0/2.2 MB 4.7 MB/s eta 0:00:01\n",
      "   ---------------------------------------- 2.2/2.2 MB 4.8 MB/s eta 0:00:00\n",
      "Using cached kiwisolver-1.4.5-cp311-cp311-win_amd64.whl (56 kB)\n",
      "Downloading pillow-10.2.0-cp311-cp311-win_amd64.whl (2.6 MB)\n",
      "   ---------------------------------------- 0.0/2.6 MB ? eta -:--:--\n",
      "   ---- ----------------------------------- 0.3/2.6 MB 9.6 MB/s eta 0:00:01\n",
      "   --------- ------------------------------ 0.6/2.6 MB 6.3 MB/s eta 0:00:01\n",
      "   ------------ --------------------------- 0.8/2.6 MB 5.6 MB/s eta 0:00:01\n",
      "   ------------ --------------------------- 0.8/2.6 MB 5.8 MB/s eta 0:00:01\n",
      "   ------------ --------------------------- 0.8/2.6 MB 5.8 MB/s eta 0:00:01\n",
      "   ------------ --------------------------- 0.8/2.6 MB 5.8 MB/s eta 0:00:01\n",
      "   ------------ --------------------------- 0.8/2.6 MB 5.8 MB/s eta 0:00:01\n",
      "   ---------------------------- ----------- 1.8/2.6 MB 5.1 MB/s eta 0:00:01\n",
      "   ----------------------------- ---------- 1.9/2.6 MB 4.8 MB/s eta 0:00:01\n",
      "   ---------------------------------- ----- 2.2/2.6 MB 4.9 MB/s eta 0:00:01\n",
      "   -------------------------------------- - 2.5/2.6 MB 5.0 MB/s eta 0:00:01\n",
      "   ---------------------------------------- 2.6/2.6 MB 4.9 MB/s eta 0:00:00\n",
      "Using cached pyparsing-3.1.1-py3-none-any.whl (103 kB)\n",
      "Installing collected packages: pyparsing, pillow, kiwisolver, fonttools, cycler, contourpy, matplotlib\n",
      "Successfully installed contourpy-1.2.0 cycler-0.12.1 fonttools-4.47.2 kiwisolver-1.4.5 matplotlib-3.8.2 pillow-10.2.0 pyparsing-3.1.1\n",
      "Note: you may need to restart the kernel to use updated packages.\n"
     ]
    }
   ],
   "source": [
    "pip install matplotlib"
   ]
  },
  {
   "cell_type": "code",
   "execution_count": 43,
   "metadata": {},
   "outputs": [],
   "source": [
    "import matplotlib.pyplot as plt\n",
    "%matplotlib inline"
   ]
  },
  {
   "cell_type": "code",
   "execution_count": 44,
   "metadata": {},
   "outputs": [],
   "source": [
    "grouped_data = df.groupby('Instituição')['Valor'].sum().reset_index()\n"
   ]
  },
  {
   "cell_type": "code",
   "execution_count": 47,
   "metadata": {},
   "outputs": [
    {
     "data": {
      "image/png": "[encoded data removed]",
      "text/plain": [
       "<Figure size 1000x600 with 1 Axes>"
      ]
     },
     "metadata": {},
     "output_type": "display_data"
    }
   ],
   "source": [
    "plt.figure(figsize=(10, 6))  # Adjust the size of the figure\n",
    "plt.bar(grouped_data['Instituição'], grouped_data['Valor'], color='blue')  # Create a bar chart\n",
    "plt.xlabel('Instituição/Empresa')  # Label for X-axis\n",
    "plt.ylabel('Valor')  # Label for Y-axis\n",
    "plt.title('Valor por Instituição/Empresa')  # Title of the plot\n",
    "plt.xticks(rotation=45)  # Rotate the X-axis labels for better readability\n",
    "plt.show()\n"
   ]
  },
  {
   "cell_type": "code",
   "execution_count": 50,
   "metadata": {},
   "outputs": [
    {
     "name": "stdout",
     "output_type": "stream",
     "text": [
      "20847418.74\n"
     ]
    }
   ],
   "source": [
    "total_valor = df['Valor'].sum()\n",
    "print(total_valor)\n"
   ]
  }
 ],
 "metadata": {
  "kernelspec": {
   "display_name": "Python 3",
   "language": "python",
   "name": "python3"
  },
  "language_info": {
   "codemirror_mode": {
    "name": "ipython",
    "version": 3
   },
   "file_extension": ".py",
   "mimetype": "text/x-python",
   "name": "python",
   "nbconvert_exporter": "python",
   "pygments_lexer": "ipython3",
   "version": "3.11.7"
  }
 },
 "nbformat": 4,
 "nbformat_minor": 2
}
